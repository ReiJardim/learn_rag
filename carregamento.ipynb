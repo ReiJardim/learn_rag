{
 "cells": [
  {
   "cell_type": "markdown",
   "metadata": {},
   "source": [
    "# Carregando PDFs"
   ]
  },
  {
   "cell_type": "code",
   "execution_count": 1,
   "metadata": {},
   "outputs": [],
   "source": [
    "from langchain_community.document_loaders.pdf import PyPDFLoader\n",
    "\n",
    "caminho = 'arquivos/TSP_CMC_54360.pdf'\n",
    "loader = PyPDFLoader(caminho)\n",
    "documentos = loader.load()"
   ]
  },
  {
   "cell_type": "code",
   "execution_count": 2,
   "metadata": {},
   "outputs": [
    {
     "data": {
      "text/plain": [
       "20"
      ]
     },
     "execution_count": 2,
     "metadata": {},
     "output_type": "execute_result"
    }
   ],
   "source": [
    "len (documentos)"
   ]
  },
  {
   "cell_type": "code",
   "execution_count": 3,
   "metadata": {},
   "outputs": [
    {
     "name": "stdout",
     "output_type": "stream",
     "text": [
      "This work is licensed under a Creative Commons Attribution 4.0 International License,\n",
      "which permits unrestricted use, distribution, and reproduction in any medium, provided the\n",
      "original work is properly cited.\n",
      "echT PressScience\n",
      "DOI: 10.32604/cmc.2024.054360\n",
      "ARTICLE\n",
      "Efficiency-Driven Custom Chatbot Development: Unleashing LangChain,\n",
      "RAG, and Performance-Optimized LLM Fusion\n",
      "S. Vidivelli*, Manikandan Ramachandran* and A. Dharunbalaji\n",
      "School of Computing, SASTRA Deemed University, Thanjavur, Tamilnadu, 613401, India\n",
      "*Corresponding Authors: S. Vidivelli. Email: vidieng@gmail.com; Manikandan Ramachandran. Email: srmanimt75@gmail.com\n",
      "Received: 26 May 2024 Accepted: 03 July 2024 Published: 15 August 2024\n",
      "ABSTRACT\n",
      "This exploration acquaints a momentous methodology with custom chatbot improvement that focuses on pro-\n",
      "ficiency close by viability. We accomplish this by joining three key innovations: LangChain, Retrieval Augmented\n",
      "Generation (RAG), and enormous language models (LLMs) tweaked with execution proficient strategies like LoRA\n",
      "and QLoRA. LangChain takes into consideration fastidious fitting of chatbots to explicit purposes, guaranteeing\n",
      "engaged and important collaborations with clients. RAG’s web scratching capacities engage these chatbots to\n",
      "get to a tremendous store of data, empowering them to give exhaustive and enlightening reactions to requests.\n",
      "This recovered data is then decisively woven into reaction age utilizing LLMs that have been calibrated with\n",
      "an emphasis on execution productivity. This combination approach offers a triple advantage: further developed\n",
      "viability, upgraded client experience, and extended admittance to data. Chatbots become proficient at taking care\n",
      "of client questions precisely and productively, while instructive and logically pertinent reactions make a more\n",
      "regular and drawing in cooperation for clients. At last, web scratching enables chatbots to address a more extensive\n",
      "assortment of requests by conceding them admittance to a more extensive information base. By digging into the\n",
      "complexities of execution proficient LLM calibrating and underlining the basic job of web-scratched information,\n",
      "this examination offers a critical commitment to propelling custom chatbot plan and execution. The subsequent\n",
      "chatbots feature the monstrous capability of these advancements in making enlightening, easy to understand, and\n",
      "effective conversational specialists, eventually changing the manner in which clients cooperate with chatbots.\n",
      "KEYWORDS\n",
      "LangChain; retrieval augumental generation (RAG); fine tuning\n",
      "1 Introduction\n",
      "The dental business flourishes with clear correspondence and informed patients. Conventional\n",
      "strategies for patient collaboration, such as calls and appointment arrangements, can be tedious\n",
      "for the two patients and staff. This restricted admittance to promptly accessible data can prompt\n",
      "disappointment and botched open doors for safeguard care. While existing dental chatbots offer a\n",
      "brief look into the eventual fate of patient communication, they frequently miss the mark regarding\n",
      "information profundity, functional productivity, and the capacity to enable patients. This exploration\n"
     ]
    }
   ],
   "source": [
    "print(documentos[0].page_content)"
   ]
  },
  {
   "cell_type": "code",
   "execution_count": null,
   "metadata": {},
   "outputs": [
    {
     "data": {
      "text/plain": [
       "True"
      ]
     },
     "execution_count": 4,
     "metadata": {},
     "output_type": "execute_result"
    }
   ],
   "source": [
    "from dotenv import load_dotenv\n",
    "load_dotenv()"
   ]
  },
  {
   "cell_type": "code",
   "execution_count": 5,
   "metadata": {},
   "outputs": [
    {
     "name": "stderr",
     "output_type": "stream",
     "text": [
      "/tmp/ipykernel_105293/651377472.py:5: LangChainDeprecationWarning: This class is deprecated. See the following migration guides for replacements based on `chain_type`:\n",
      "stuff: https://python.langchain.com/docs/versions/migrating_chains/stuff_docs_chain\n",
      "map_reduce: https://python.langchain.com/docs/versions/migrating_chains/map_reduce_chain\n",
      "refine: https://python.langchain.com/docs/versions/migrating_chains/refine_chain\n",
      "map_rerank: https://python.langchain.com/docs/versions/migrating_chains/map_rerank_docs_chain\n",
      "\n",
      "See also guides on retrieval and question-answering here: https://python.langchain.com/docs/how_to/#qa-with-rag\n",
      "  chain = load_qa_chain(llm, chain_type=\"stuff\")\n"
     ]
    }
   ],
   "source": [
    "from langchain.chains.question_answering import load_qa_chain\n",
    "from langchain_openai.chat_models import ChatOpenAI\n",
    "\n",
    "llm = ChatOpenAI(model=\"gpt-4.1-2025-04-14\")\n",
    "chain = load_qa_chain(llm, chain_type=\"stuff\")"
   ]
  },
  {
   "cell_type": "code",
   "execution_count": 6,
   "metadata": {},
   "outputs": [
    {
     "name": "stderr",
     "output_type": "stream",
     "text": [
      "/tmp/ipykernel_105293/1480713171.py:4: LangChainDeprecationWarning: The method `Chain.run` was deprecated in langchain 0.1.0 and will be removed in 1.0. Use :meth:`~invoke` instead.\n",
      "  chain.run(input_documents=documentos[:], question=pergunta)\n"
     ]
    },
    {
     "data": {
      "text/plain": [
       "'O artigo aborda o desenvolvimento de chatbots customizados com foco em eficiência e eficácia, especialmente para o setor de saúde, como clínicas odontológicas. Os autores propõem uma abordagem inovadora que combina três tecnologias principais:\\n\\n1. **LangChain** – Um framework que permite personalizar e construir chatbots para propósitos específicos, garantindo interações mais focadas e relevantes.\\n2. **Retrieval Augmented Generation (RAG)** – Uma técnica que permite ao chatbot acessar informações de grandes bases de dados externas (como web scraping de sites confiáveis), integrando esse conteúdo dinamicamente nas respostas.\\n3. **Large Language Models (LLMs) otimizados** – Modelos como o TinyLlama-1.1B-Chat-v1.0, ajustados (fine-tuning) e otimizados com técnicas de eficiência como LoRA e QLoRA para viabilizar uso em ambientes com recursos computacionais limitados.\\n\\nO artigo detalha todo o processo, desde o processamento e preparação dos dados de conversas, passando pela otimização dos modelos via técnicas como pruning, quantização e distilação de conhecimento, até a integração com bancos vetoriais de dados (como ChromaDB) via LangChain para melhorar a recuperação e geração de respostas.\\n\\nAlém disso, os autores apresentam experimentos e avaliações de desempenho, mostrando que a combinação de fine-tuning com RAG melhora significativamente a precisão e utilidade das respostas dos chatbots em comparação ao uso apenas do modelo base ou apenas ajustado.\\n\\nEm resumo, o artigo trata do avanço no desenvolvimento de chatbots mais eficientes, informativos e customizados para o setor de saúde, utilizando uma combinação sinérgica de tecnologias de linguagem natural, recuperação de informação e otimização de modelos.'"
      ]
     },
     "execution_count": 6,
     "metadata": {},
     "output_type": "execute_result"
    }
   ],
   "source": [
    "pergunta= 'O que é tartado nesse artigo?'\n",
    "\n",
    "\n",
    "chain.run(input_documents=documentos[:], question=pergunta)"
   ]
  },
  {
   "cell_type": "markdown",
   "metadata": {},
   "source": [
    "# CSV"
   ]
  },
  {
   "cell_type": "code",
   "execution_count": 13,
   "metadata": {},
   "outputs": [],
   "source": [
    "from langchain_community.document_loaders.csv_loader import CSVLoader\n",
    "\n",
    "caminho = 'arquivos/INMET.CSV'\n",
    "loader = CSVLoader(caminho, encoding='latin1')  # ou 'iso-8859-1'\n",
    "documentos = loader.load()"
   ]
  },
  {
   "cell_type": "code",
   "execution_count": 14,
   "metadata": {},
   "outputs": [
    {
     "data": {
      "text/plain": [
       "8792"
      ]
     },
     "execution_count": 14,
     "metadata": {},
     "output_type": "execute_result"
    }
   ],
   "source": [
    "len(documentos)"
   ]
  },
  {
   "cell_type": "code",
   "execution_count": 15,
   "metadata": {},
   "outputs": [],
   "source": [
    "from langchain.chains.question_answering import load_qa_chain\n",
    "from langchain_openai.chat_models import ChatOpenAI\n",
    "\n",
    "llm = ChatOpenAI(model=\"gpt-4.1-mini-2025-04-14\")\n",
    "chain = load_qa_chain(llm, chain_type=\"stuff\")"
   ]
  },
  {
   "cell_type": "code",
   "execution_count": 19,
   "metadata": {},
   "outputs": [
    {
     "data": {
      "text/plain": [
       "'Analisando os dados de precipitação total (choveu) apresentados, o dia em que choveu mais foi 27/01/2024, com precipitação máxima registrada de 34 mm em um dos horários (00:00 UTC).\\n\\nObservação: Os dados de precipitação estão indicados na coluna \"PRECIPITAÇÃO TOTAL HORÁRIO (mm)\". O valor máximo encontrado é 34 mm em 27/01/2024 em 0000 UTC.\\n\\nPortanto, o dia com maior chuva foi 27 de janeiro de 2024, com uma quantidade máxima de 34 mm registrada num horário.'"
      ]
     },
     "execution_count": 19,
     "metadata": {},
     "output_type": "execute_result"
    }
   ],
   "source": [
    "pergunta= 'Que dia choveu mais e qual foi a quantidade de chuva??'\n",
    "\n",
    "\n",
    "chain.run(input_documents=documentos[:800], question=pergunta)"
   ]
  },
  {
   "cell_type": "markdown",
   "metadata": {},
   "source": [
    "# Internet"
   ]
  },
  {
   "cell_type": "markdown",
   "metadata": {},
   "source": [
    "# Youtube"
   ]
  },
  {
   "cell_type": "code",
   "execution_count": 20,
   "metadata": {},
   "outputs": [],
   "source": [
    "from langchain_community.document_loaders.generic import GenericLoader\n",
    "from langchain_community.document_loaders.blob_loaders.youtube_audio import YoutubeAudioLoader\n",
    "from langchain.document_loaders.parsers import OpenAIWhisperParser"
   ]
  },
  {
   "cell_type": "code",
   "execution_count": 21,
   "metadata": {},
   "outputs": [
    {
     "name": "stdout",
     "output_type": "stream",
     "text": [
      "[youtube] Extracting URL: https://www.youtube.com/watch?v=8juRvzZg_AI\n",
      "[youtube] 8juRvzZg_AI: Downloading webpage\n",
      "[youtube] 8juRvzZg_AI: Downloading tv client config\n",
      "[youtube] 8juRvzZg_AI: Downloading player b2858d36-main\n",
      "[youtube] 8juRvzZg_AI: Downloading tv player API JSON\n",
      "[youtube] 8juRvzZg_AI: Downloading ios player API JSON\n",
      "[youtube] 8juRvzZg_AI: Downloading m3u8 information\n",
      "[info] 8juRvzZg_AI: Downloading 1 format(s): 140\n",
      "[download] Destination: docs/youtube//Construindo um RAG próprio do ZERO.m4a\n",
      "[download] 100% of   22.62MiB in 00:00:02 at 9.30MiB/s     \n"
     ]
    },
    {
     "name": "stderr",
     "output_type": "stream",
     "text": [
      "WARNING: 8juRvzZg_AI: writing DASH m4a. Only some players support this container. Install ffmpeg to fix this automatically\n",
      "ERROR: Postprocessing: ffprobe and ffmpeg not found. Please install or provide the path using --ffmpeg-location\n"
     ]
    },
    {
     "ename": "DownloadError",
     "evalue": "ERROR: Postprocessing: ffprobe and ffmpeg not found. Please install or provide the path using --ffmpeg-location",
     "output_type": "error",
     "traceback": [
      "\u001b[31m---------------------------------------------------------------------------\u001b[39m",
      "\u001b[31mPostProcessingError\u001b[39m                       Traceback (most recent call last)",
      "\u001b[36mFile \u001b[39m\u001b[32m~/ISC/arena/learn/learn_rag/.venv/lib/python3.11/site-packages/yt_dlp/YoutubeDL.py:3586\u001b[39m, in \u001b[36mYoutubeDL.process_info\u001b[39m\u001b[34m(self, info_dict)\u001b[39m\n\u001b[32m   3585\u001b[39m \u001b[38;5;28;01mtry\u001b[39;00m:\n\u001b[32m-> \u001b[39m\u001b[32m3586\u001b[39m     replace_info_dict(\u001b[38;5;28;43mself\u001b[39;49m\u001b[43m.\u001b[49m\u001b[43mpost_process\u001b[49m\u001b[43m(\u001b[49m\u001b[43mdl_filename\u001b[49m\u001b[43m,\u001b[49m\u001b[43m \u001b[49m\u001b[43minfo_dict\u001b[49m\u001b[43m,\u001b[49m\u001b[43m \u001b[49m\u001b[43mfiles_to_move\u001b[49m\u001b[43m)\u001b[49m)\n\u001b[32m   3587\u001b[39m \u001b[38;5;28;01mexcept\u001b[39;00m PostProcessingError \u001b[38;5;28;01mas\u001b[39;00m err:\n",
      "\u001b[36mFile \u001b[39m\u001b[32m~/ISC/arena/learn/learn_rag/.venv/lib/python3.11/site-packages/yt_dlp/YoutubeDL.py:3770\u001b[39m, in \u001b[36mYoutubeDL.post_process\u001b[39m\u001b[34m(self, filename, info, files_to_move)\u001b[39m\n\u001b[32m   3769\u001b[39m info[\u001b[33m'\u001b[39m\u001b[33m__files_to_move\u001b[39m\u001b[33m'\u001b[39m] = files_to_move \u001b[38;5;129;01mor\u001b[39;00m {}\n\u001b[32m-> \u001b[39m\u001b[32m3770\u001b[39m info = \u001b[38;5;28;43mself\u001b[39;49m\u001b[43m.\u001b[49m\u001b[43mrun_all_pps\u001b[49m\u001b[43m(\u001b[49m\u001b[33;43m'\u001b[39;49m\u001b[33;43mpost_process\u001b[39;49m\u001b[33;43m'\u001b[39;49m\u001b[43m,\u001b[49m\u001b[43m \u001b[49m\u001b[43minfo\u001b[49m\u001b[43m,\u001b[49m\u001b[43m \u001b[49m\u001b[43madditional_pps\u001b[49m\u001b[43m=\u001b[49m\u001b[43minfo\u001b[49m\u001b[43m.\u001b[49m\u001b[43mget\u001b[49m\u001b[43m(\u001b[49m\u001b[33;43m'\u001b[39;49m\u001b[33;43m__postprocessors\u001b[39;49m\u001b[33;43m'\u001b[39;49m\u001b[43m)\u001b[49m\u001b[43m)\u001b[49m\n\u001b[32m   3771\u001b[39m info = \u001b[38;5;28mself\u001b[39m.run_pp(MoveFilesAfterDownloadPP(\u001b[38;5;28mself\u001b[39m), info)\n",
      "\u001b[36mFile \u001b[39m\u001b[32m~/ISC/arena/learn/learn_rag/.venv/lib/python3.11/site-packages/yt_dlp/YoutubeDL.py:3752\u001b[39m, in \u001b[36mYoutubeDL.run_all_pps\u001b[39m\u001b[34m(self, key, info, additional_pps)\u001b[39m\n\u001b[32m   3751\u001b[39m \u001b[38;5;28;01mfor\u001b[39;00m pp \u001b[38;5;129;01min\u001b[39;00m (additional_pps \u001b[38;5;129;01mor\u001b[39;00m []) + \u001b[38;5;28mself\u001b[39m._pps[key]:\n\u001b[32m-> \u001b[39m\u001b[32m3752\u001b[39m     info = \u001b[38;5;28;43mself\u001b[39;49m\u001b[43m.\u001b[49m\u001b[43mrun_pp\u001b[49m\u001b[43m(\u001b[49m\u001b[43mpp\u001b[49m\u001b[43m,\u001b[49m\u001b[43m \u001b[49m\u001b[43minfo\u001b[49m\u001b[43m)\u001b[49m\n\u001b[32m   3753\u001b[39m \u001b[38;5;28;01mreturn\u001b[39;00m info\n",
      "\u001b[36mFile \u001b[39m\u001b[32m~/ISC/arena/learn/learn_rag/.venv/lib/python3.11/site-packages/yt_dlp/YoutubeDL.py:3730\u001b[39m, in \u001b[36mYoutubeDL.run_pp\u001b[39m\u001b[34m(self, pp, infodict)\u001b[39m\n\u001b[32m   3729\u001b[39m \u001b[38;5;28;01mtry\u001b[39;00m:\n\u001b[32m-> \u001b[39m\u001b[32m3730\u001b[39m     files_to_delete, infodict = \u001b[43mpp\u001b[49m\u001b[43m.\u001b[49m\u001b[43mrun\u001b[49m\u001b[43m(\u001b[49m\u001b[43minfodict\u001b[49m\u001b[43m)\u001b[49m\n\u001b[32m   3731\u001b[39m \u001b[38;5;28;01mexcept\u001b[39;00m PostProcessingError \u001b[38;5;28;01mas\u001b[39;00m e:\n\u001b[32m   3732\u001b[39m     \u001b[38;5;66;03m# Must be True and not 'only_download'\u001b[39;00m\n",
      "\u001b[36mFile \u001b[39m\u001b[32m~/ISC/arena/learn/learn_rag/.venv/lib/python3.11/site-packages/yt_dlp/postprocessor/common.py:23\u001b[39m, in \u001b[36mPostProcessorMetaClass.run_wrapper.<locals>.run\u001b[39m\u001b[34m(self, info, *args, **kwargs)\u001b[39m\n\u001b[32m     22\u001b[39m \u001b[38;5;28mself\u001b[39m._hook_progress({\u001b[33m'\u001b[39m\u001b[33mstatus\u001b[39m\u001b[33m'\u001b[39m: \u001b[33m'\u001b[39m\u001b[33mstarted\u001b[39m\u001b[33m'\u001b[39m}, info_copy)\n\u001b[32m---> \u001b[39m\u001b[32m23\u001b[39m ret = \u001b[43mfunc\u001b[49m\u001b[43m(\u001b[49m\u001b[38;5;28;43mself\u001b[39;49m\u001b[43m,\u001b[49m\u001b[43m \u001b[49m\u001b[43minfo\u001b[49m\u001b[43m,\u001b[49m\u001b[43m \u001b[49m\u001b[43m*\u001b[49m\u001b[43margs\u001b[49m\u001b[43m,\u001b[49m\u001b[43m \u001b[49m\u001b[43m*\u001b[49m\u001b[43m*\u001b[49m\u001b[43mkwargs\u001b[49m\u001b[43m)\u001b[49m\n\u001b[32m     24\u001b[39m \u001b[38;5;28;01mif\u001b[39;00m ret \u001b[38;5;129;01mis\u001b[39;00m \u001b[38;5;129;01mnot\u001b[39;00m \u001b[38;5;28;01mNone\u001b[39;00m:\n",
      "\u001b[36mFile \u001b[39m\u001b[32m~/ISC/arena/learn/learn_rag/.venv/lib/python3.11/site-packages/yt_dlp/postprocessor/common.py:128\u001b[39m, in \u001b[36mPostProcessor._restrict_to.<locals>.decorator.<locals>.wrapper\u001b[39m\u001b[34m(self, info)\u001b[39m\n\u001b[32m    127\u001b[39m \u001b[38;5;28;01mif\u001b[39;00m allowed[format_type]:\n\u001b[32m--> \u001b[39m\u001b[32m128\u001b[39m     \u001b[38;5;28;01mreturn\u001b[39;00m \u001b[43mfunc\u001b[49m\u001b[43m(\u001b[49m\u001b[38;5;28;43mself\u001b[39;49m\u001b[43m,\u001b[49m\u001b[43m \u001b[49m\u001b[43minfo\u001b[49m\u001b[43m)\u001b[49m\n\u001b[32m    129\u001b[39m \u001b[38;5;28;01melse\u001b[39;00m:\n",
      "\u001b[36mFile \u001b[39m\u001b[32m~/ISC/arena/learn/learn_rag/.venv/lib/python3.11/site-packages/yt_dlp/postprocessor/ffmpeg.py:493\u001b[39m, in \u001b[36mFFmpegExtractAudioPP.run\u001b[39m\u001b[34m(self, information)\u001b[39m\n\u001b[32m    491\u001b[39m     \u001b[38;5;28;01mreturn\u001b[39;00m [], information\n\u001b[32m--> \u001b[39m\u001b[32m493\u001b[39m filecodec = \u001b[38;5;28;43mself\u001b[39;49m\u001b[43m.\u001b[49m\u001b[43mget_audio_codec\u001b[49m\u001b[43m(\u001b[49m\u001b[43mpath\u001b[49m\u001b[43m)\u001b[49m\n\u001b[32m    494\u001b[39m \u001b[38;5;28;01mif\u001b[39;00m filecodec \u001b[38;5;129;01mis\u001b[39;00m \u001b[38;5;28;01mNone\u001b[39;00m:\n",
      "\u001b[36mFile \u001b[39m\u001b[32m~/ISC/arena/learn/learn_rag/.venv/lib/python3.11/site-packages/yt_dlp/postprocessor/ffmpeg.py:241\u001b[39m, in \u001b[36mFFmpegPostProcessor.get_audio_codec\u001b[39m\u001b[34m(self, path)\u001b[39m\n\u001b[32m    240\u001b[39m \u001b[38;5;28;01mif\u001b[39;00m \u001b[38;5;129;01mnot\u001b[39;00m \u001b[38;5;28mself\u001b[39m.probe_available \u001b[38;5;129;01mand\u001b[39;00m \u001b[38;5;129;01mnot\u001b[39;00m \u001b[38;5;28mself\u001b[39m.available:\n\u001b[32m--> \u001b[39m\u001b[32m241\u001b[39m     \u001b[38;5;28;01mraise\u001b[39;00m PostProcessingError(\u001b[33m'\u001b[39m\u001b[33mffprobe and ffmpeg not found. Please install or provide the path using --ffmpeg-location\u001b[39m\u001b[33m'\u001b[39m)\n\u001b[32m    242\u001b[39m \u001b[38;5;28;01mtry\u001b[39;00m:\n",
      "\u001b[31mPostProcessingError\u001b[39m: ffprobe and ffmpeg not found. Please install or provide the path using --ffmpeg-location",
      "\nDuring handling of the above exception, another exception occurred:\n",
      "\u001b[31mDownloadError\u001b[39m                             Traceback (most recent call last)",
      "\u001b[36mCell\u001b[39m\u001b[36m \u001b[39m\u001b[32mIn[21]\u001b[39m\u001b[32m, line 7\u001b[39m\n\u001b[32m      2\u001b[39m save_dir=\u001b[33m'\u001b[39m\u001b[33mdocs/youtube/\u001b[39m\u001b[33m'\u001b[39m\n\u001b[32m      3\u001b[39m loader = GenericLoader(\n\u001b[32m      4\u001b[39m     YoutubeAudioLoader([url], save_dir),\n\u001b[32m      5\u001b[39m     OpenAIWhisperParser()\n\u001b[32m      6\u001b[39m )\n\u001b[32m----> \u001b[39m\u001b[32m7\u001b[39m docs = \u001b[43mloader\u001b[49m\u001b[43m.\u001b[49m\u001b[43mload\u001b[49m\u001b[43m(\u001b[49m\u001b[43m)\u001b[49m\n",
      "\u001b[36mFile \u001b[39m\u001b[32m~/ISC/arena/learn/learn_rag/.venv/lib/python3.11/site-packages/langchain_core/document_loaders/base.py:32\u001b[39m, in \u001b[36mBaseLoader.load\u001b[39m\u001b[34m(self)\u001b[39m\n\u001b[32m     30\u001b[39m \u001b[38;5;28;01mdef\u001b[39;00m\u001b[38;5;250m \u001b[39m\u001b[34mload\u001b[39m(\u001b[38;5;28mself\u001b[39m) -> \u001b[38;5;28mlist\u001b[39m[Document]:\n\u001b[32m     31\u001b[39m \u001b[38;5;250m    \u001b[39m\u001b[33;03m\"\"\"Load data into Document objects.\"\"\"\u001b[39;00m\n\u001b[32m---> \u001b[39m\u001b[32m32\u001b[39m     \u001b[38;5;28;01mreturn\u001b[39;00m \u001b[38;5;28mlist\u001b[39m(\u001b[38;5;28mself\u001b[39m.lazy_load())\n",
      "\u001b[36mFile \u001b[39m\u001b[32m~/ISC/arena/learn/learn_rag/.venv/lib/python3.11/site-packages/langchain_community/document_loaders/generic.py:115\u001b[39m, in \u001b[36mGenericLoader.lazy_load\u001b[39m\u001b[34m(self)\u001b[39m\n\u001b[32m    111\u001b[39m \u001b[38;5;28;01mdef\u001b[39;00m\u001b[38;5;250m \u001b[39m\u001b[34mlazy_load\u001b[39m(\n\u001b[32m    112\u001b[39m     \u001b[38;5;28mself\u001b[39m,\n\u001b[32m    113\u001b[39m ) -> Iterator[Document]:\n\u001b[32m    114\u001b[39m \u001b[38;5;250m    \u001b[39m\u001b[33;03m\"\"\"Load documents lazily. Use this when working at a large scale.\"\"\"\u001b[39;00m\n\u001b[32m--> \u001b[39m\u001b[32m115\u001b[39m \u001b[43m    \u001b[49m\u001b[38;5;28;43;01mfor\u001b[39;49;00m\u001b[43m \u001b[49m\u001b[43mblob\u001b[49m\u001b[43m \u001b[49m\u001b[38;5;129;43;01min\u001b[39;49;00m\u001b[43m \u001b[49m\u001b[38;5;28;43mself\u001b[39;49m\u001b[43m.\u001b[49m\u001b[43mblob_loader\u001b[49m\u001b[43m.\u001b[49m\u001b[43myield_blobs\u001b[49m\u001b[43m(\u001b[49m\u001b[43m)\u001b[49m\u001b[43m:\u001b[49m\u001b[43m  \u001b[49m\u001b[38;5;66;43;03m# type: ignore[attr-defined]\u001b[39;49;00m\n\u001b[32m    116\u001b[39m \u001b[43m        \u001b[49m\u001b[38;5;28;43;01myield from\u001b[39;49;00m\u001b[43m \u001b[49m\u001b[38;5;28;43mself\u001b[39;49m\u001b[43m.\u001b[49m\u001b[43mblob_parser\u001b[49m\u001b[43m.\u001b[49m\u001b[43mlazy_parse\u001b[49m\u001b[43m(\u001b[49m\u001b[43mblob\u001b[49m\u001b[43m)\u001b[49m\n",
      "\u001b[36mFile \u001b[39m\u001b[32m~/ISC/arena/learn/learn_rag/.venv/lib/python3.11/site-packages/langchain_community/document_loaders/blob_loaders/youtube_audio.py:44\u001b[39m, in \u001b[36mYoutubeAudioLoader.yield_blobs\u001b[39m\u001b[34m(self)\u001b[39m\n\u001b[32m     41\u001b[39m \u001b[38;5;28;01mfor\u001b[39;00m url \u001b[38;5;129;01min\u001b[39;00m \u001b[38;5;28mself\u001b[39m.urls:\n\u001b[32m     42\u001b[39m     \u001b[38;5;66;03m# Download file\u001b[39;00m\n\u001b[32m     43\u001b[39m     \u001b[38;5;28;01mwith\u001b[39;00m yt_dlp.YoutubeDL(ydl_opts) \u001b[38;5;28;01mas\u001b[39;00m ydl:\n\u001b[32m---> \u001b[39m\u001b[32m44\u001b[39m         \u001b[43mydl\u001b[49m\u001b[43m.\u001b[49m\u001b[43mdownload\u001b[49m\u001b[43m(\u001b[49m\u001b[43murl\u001b[49m\u001b[43m)\u001b[49m\n\u001b[32m     46\u001b[39m \u001b[38;5;66;03m# Yield the written blobs\u001b[39;00m\n\u001b[32m     47\u001b[39m loader = FileSystemBlobLoader(\u001b[38;5;28mself\u001b[39m.save_dir, glob=\u001b[33m\"\u001b[39m\u001b[33m*.m4a\u001b[39m\u001b[33m\"\u001b[39m)\n",
      "\u001b[36mFile \u001b[39m\u001b[32m~/ISC/arena/learn/learn_rag/.venv/lib/python3.11/site-packages/yt_dlp/YoutubeDL.py:3634\u001b[39m, in \u001b[36mYoutubeDL.download\u001b[39m\u001b[34m(self, url_list)\u001b[39m\n\u001b[32m   3631\u001b[39m     \u001b[38;5;28;01mraise\u001b[39;00m SameFileError(outtmpl)\n\u001b[32m   3633\u001b[39m \u001b[38;5;28;01mfor\u001b[39;00m url \u001b[38;5;129;01min\u001b[39;00m url_list:\n\u001b[32m-> \u001b[39m\u001b[32m3634\u001b[39m     \u001b[38;5;28;43mself\u001b[39;49m\u001b[43m.\u001b[49m\u001b[43m__download_wrapper\u001b[49m\u001b[43m(\u001b[49m\u001b[38;5;28;43mself\u001b[39;49m\u001b[43m.\u001b[49m\u001b[43mextract_info\u001b[49m\u001b[43m)\u001b[49m\u001b[43m(\u001b[49m\n\u001b[32m   3635\u001b[39m \u001b[43m        \u001b[49m\u001b[43murl\u001b[49m\u001b[43m,\u001b[49m\u001b[43m \u001b[49m\u001b[43mforce_generic_extractor\u001b[49m\u001b[43m=\u001b[49m\u001b[38;5;28;43mself\u001b[39;49m\u001b[43m.\u001b[49m\u001b[43mparams\u001b[49m\u001b[43m.\u001b[49m\u001b[43mget\u001b[49m\u001b[43m(\u001b[49m\u001b[33;43m'\u001b[39;49m\u001b[33;43mforce_generic_extractor\u001b[39;49m\u001b[33;43m'\u001b[39;49m\u001b[43m,\u001b[49m\u001b[43m \u001b[49m\u001b[38;5;28;43;01mFalse\u001b[39;49;00m\u001b[43m)\u001b[49m\u001b[43m)\u001b[49m\n\u001b[32m   3637\u001b[39m \u001b[38;5;28;01mreturn\u001b[39;00m \u001b[38;5;28mself\u001b[39m._download_retcode\n",
      "\u001b[36mFile \u001b[39m\u001b[32m~/ISC/arena/learn/learn_rag/.venv/lib/python3.11/site-packages/yt_dlp/YoutubeDL.py:3607\u001b[39m, in \u001b[36mYoutubeDL.__download_wrapper.<locals>.wrapper\u001b[39m\u001b[34m(*args, **kwargs)\u001b[39m\n\u001b[32m   3604\u001b[39m \u001b[38;5;129m@functools\u001b[39m.wraps(func)\n\u001b[32m   3605\u001b[39m \u001b[38;5;28;01mdef\u001b[39;00m\u001b[38;5;250m \u001b[39m\u001b[34mwrapper\u001b[39m(*args, **kwargs):\n\u001b[32m   3606\u001b[39m     \u001b[38;5;28;01mtry\u001b[39;00m:\n\u001b[32m-> \u001b[39m\u001b[32m3607\u001b[39m         res = \u001b[43mfunc\u001b[49m\u001b[43m(\u001b[49m\u001b[43m*\u001b[49m\u001b[43margs\u001b[49m\u001b[43m,\u001b[49m\u001b[43m \u001b[49m\u001b[43m*\u001b[49m\u001b[43m*\u001b[49m\u001b[43mkwargs\u001b[49m\u001b[43m)\u001b[49m\n\u001b[32m   3608\u001b[39m     \u001b[38;5;28;01mexcept\u001b[39;00m CookieLoadError:\n\u001b[32m   3609\u001b[39m         \u001b[38;5;28;01mraise\u001b[39;00m\n",
      "\u001b[36mFile \u001b[39m\u001b[32m~/ISC/arena/learn/learn_rag/.venv/lib/python3.11/site-packages/yt_dlp/YoutubeDL.py:1642\u001b[39m, in \u001b[36mYoutubeDL.extract_info\u001b[39m\u001b[34m(self, url, download, ie_key, extra_info, process, force_generic_extractor)\u001b[39m\n\u001b[32m   1640\u001b[39m             \u001b[38;5;28;01mraise\u001b[39;00m ExistingVideoReached\n\u001b[32m   1641\u001b[39m         \u001b[38;5;28;01mbreak\u001b[39;00m\n\u001b[32m-> \u001b[39m\u001b[32m1642\u001b[39m     \u001b[38;5;28;01mreturn\u001b[39;00m \u001b[38;5;28;43mself\u001b[39;49m\u001b[43m.\u001b[49m\u001b[43m__extract_info\u001b[49m\u001b[43m(\u001b[49m\u001b[43murl\u001b[49m\u001b[43m,\u001b[49m\u001b[43m \u001b[49m\u001b[38;5;28;43mself\u001b[39;49m\u001b[43m.\u001b[49m\u001b[43mget_info_extractor\u001b[49m\u001b[43m(\u001b[49m\u001b[43mkey\u001b[49m\u001b[43m)\u001b[49m\u001b[43m,\u001b[49m\u001b[43m \u001b[49m\u001b[43mdownload\u001b[49m\u001b[43m,\u001b[49m\u001b[43m \u001b[49m\u001b[43mextra_info\u001b[49m\u001b[43m,\u001b[49m\u001b[43m \u001b[49m\u001b[43mprocess\u001b[49m\u001b[43m)\u001b[49m\n\u001b[32m   1643\u001b[39m \u001b[38;5;28;01melse\u001b[39;00m:\n\u001b[32m   1644\u001b[39m     extractors_restricted = \u001b[38;5;28mself\u001b[39m.params.get(\u001b[33m'\u001b[39m\u001b[33mallowed_extractors\u001b[39m\u001b[33m'\u001b[39m) \u001b[38;5;129;01mnot\u001b[39;00m \u001b[38;5;129;01min\u001b[39;00m (\u001b[38;5;28;01mNone\u001b[39;00m, [\u001b[33m'\u001b[39m\u001b[33mdefault\u001b[39m\u001b[33m'\u001b[39m])\n",
      "\u001b[36mFile \u001b[39m\u001b[32m~/ISC/arena/learn/learn_rag/.venv/lib/python3.11/site-packages/yt_dlp/YoutubeDL.py:1653\u001b[39m, in \u001b[36mYoutubeDL._handle_extraction_exceptions.<locals>.wrapper\u001b[39m\u001b[34m(self, *args, **kwargs)\u001b[39m\n\u001b[32m   1651\u001b[39m \u001b[38;5;28;01mwhile\u001b[39;00m \u001b[38;5;28;01mTrue\u001b[39;00m:\n\u001b[32m   1652\u001b[39m     \u001b[38;5;28;01mtry\u001b[39;00m:\n\u001b[32m-> \u001b[39m\u001b[32m1653\u001b[39m         \u001b[38;5;28;01mreturn\u001b[39;00m \u001b[43mfunc\u001b[49m\u001b[43m(\u001b[49m\u001b[38;5;28;43mself\u001b[39;49m\u001b[43m,\u001b[49m\u001b[43m \u001b[49m\u001b[43m*\u001b[49m\u001b[43margs\u001b[49m\u001b[43m,\u001b[49m\u001b[43m \u001b[49m\u001b[43m*\u001b[49m\u001b[43m*\u001b[49m\u001b[43mkwargs\u001b[49m\u001b[43m)\u001b[49m\n\u001b[32m   1654\u001b[39m     \u001b[38;5;28;01mexcept\u001b[39;00m (CookieLoadError, DownloadCancelled, LazyList.IndexError, PagedList.IndexError):\n\u001b[32m   1655\u001b[39m         \u001b[38;5;28;01mraise\u001b[39;00m\n",
      "\u001b[36mFile \u001b[39m\u001b[32m~/ISC/arena/learn/learn_rag/.venv/lib/python3.11/site-packages/yt_dlp/YoutubeDL.py:1809\u001b[39m, in \u001b[36mYoutubeDL.__extract_info\u001b[39m\u001b[34m(self, url, ie, download, extra_info, process)\u001b[39m\n\u001b[32m   1807\u001b[39m \u001b[38;5;28;01mif\u001b[39;00m process:\n\u001b[32m   1808\u001b[39m     \u001b[38;5;28mself\u001b[39m._wait_for_video(ie_result)\n\u001b[32m-> \u001b[39m\u001b[32m1809\u001b[39m     \u001b[38;5;28;01mreturn\u001b[39;00m \u001b[38;5;28;43mself\u001b[39;49m\u001b[43m.\u001b[49m\u001b[43mprocess_ie_result\u001b[49m\u001b[43m(\u001b[49m\u001b[43mie_result\u001b[49m\u001b[43m,\u001b[49m\u001b[43m \u001b[49m\u001b[43mdownload\u001b[49m\u001b[43m,\u001b[49m\u001b[43m \u001b[49m\u001b[43mextra_info\u001b[49m\u001b[43m)\u001b[49m\n\u001b[32m   1810\u001b[39m \u001b[38;5;28;01melse\u001b[39;00m:\n\u001b[32m   1811\u001b[39m     \u001b[38;5;28;01mreturn\u001b[39;00m ie_result\n",
      "\u001b[36mFile \u001b[39m\u001b[32m~/ISC/arena/learn/learn_rag/.venv/lib/python3.11/site-packages/yt_dlp/YoutubeDL.py:1868\u001b[39m, in \u001b[36mYoutubeDL.process_ie_result\u001b[39m\u001b[34m(self, ie_result, download, extra_info)\u001b[39m\n\u001b[32m   1866\u001b[39m \u001b[38;5;28;01mif\u001b[39;00m result_type == \u001b[33m'\u001b[39m\u001b[33mvideo\u001b[39m\u001b[33m'\u001b[39m:\n\u001b[32m   1867\u001b[39m     \u001b[38;5;28mself\u001b[39m.add_extra_info(ie_result, extra_info)\n\u001b[32m-> \u001b[39m\u001b[32m1868\u001b[39m     ie_result = \u001b[38;5;28;43mself\u001b[39;49m\u001b[43m.\u001b[49m\u001b[43mprocess_video_result\u001b[49m\u001b[43m(\u001b[49m\u001b[43mie_result\u001b[49m\u001b[43m,\u001b[49m\u001b[43m \u001b[49m\u001b[43mdownload\u001b[49m\u001b[43m=\u001b[49m\u001b[43mdownload\u001b[49m\u001b[43m)\u001b[49m\n\u001b[32m   1869\u001b[39m     \u001b[38;5;28mself\u001b[39m._raise_pending_errors(ie_result)\n\u001b[32m   1870\u001b[39m     additional_urls = (ie_result \u001b[38;5;129;01mor\u001b[39;00m {}).get(\u001b[33m'\u001b[39m\u001b[33madditional_urls\u001b[39m\u001b[33m'\u001b[39m)\n",
      "\u001b[36mFile \u001b[39m\u001b[32m~/ISC/arena/learn/learn_rag/.venv/lib/python3.11/site-packages/yt_dlp/YoutubeDL.py:3040\u001b[39m, in \u001b[36mYoutubeDL.process_video_result\u001b[39m\u001b[34m(self, info_dict, download)\u001b[39m\n\u001b[32m   3038\u001b[39m downloaded_formats.append(new_info)\n\u001b[32m   3039\u001b[39m \u001b[38;5;28;01mtry\u001b[39;00m:\n\u001b[32m-> \u001b[39m\u001b[32m3040\u001b[39m     \u001b[38;5;28;43mself\u001b[39;49m\u001b[43m.\u001b[49m\u001b[43mprocess_info\u001b[49m\u001b[43m(\u001b[49m\u001b[43mnew_info\u001b[49m\u001b[43m)\u001b[49m\n\u001b[32m   3041\u001b[39m \u001b[38;5;28;01mexcept\u001b[39;00m MaxDownloadsReached:\n\u001b[32m   3042\u001b[39m     max_downloads_reached = \u001b[38;5;28;01mTrue\u001b[39;00m\n",
      "\u001b[36mFile \u001b[39m\u001b[32m~/ISC/arena/learn/learn_rag/.venv/lib/python3.11/site-packages/yt_dlp/YoutubeDL.py:185\u001b[39m, in \u001b[36m_catch_unsafe_extension_error.<locals>.wrapper\u001b[39m\u001b[34m(self, *args, **kwargs)\u001b[39m\n\u001b[32m    182\u001b[39m \u001b[38;5;129m@functools\u001b[39m.wraps(func)\n\u001b[32m    183\u001b[39m \u001b[38;5;28;01mdef\u001b[39;00m\u001b[38;5;250m \u001b[39m\u001b[34mwrapper\u001b[39m(\u001b[38;5;28mself\u001b[39m, *args, **kwargs):\n\u001b[32m    184\u001b[39m     \u001b[38;5;28;01mtry\u001b[39;00m:\n\u001b[32m--> \u001b[39m\u001b[32m185\u001b[39m         \u001b[38;5;28;01mreturn\u001b[39;00m \u001b[43mfunc\u001b[49m\u001b[43m(\u001b[49m\u001b[38;5;28;43mself\u001b[39;49m\u001b[43m,\u001b[49m\u001b[43m \u001b[49m\u001b[43m*\u001b[49m\u001b[43margs\u001b[49m\u001b[43m,\u001b[49m\u001b[43m \u001b[49m\u001b[43m*\u001b[49m\u001b[43m*\u001b[49m\u001b[43mkwargs\u001b[49m\u001b[43m)\u001b[49m\n\u001b[32m    186\u001b[39m     \u001b[38;5;28;01mexcept\u001b[39;00m _UnsafeExtensionError \u001b[38;5;28;01mas\u001b[39;00m error:\n\u001b[32m    187\u001b[39m         \u001b[38;5;28mself\u001b[39m.report_error(\n\u001b[32m    188\u001b[39m             \u001b[33mf\u001b[39m\u001b[33m'\u001b[39m\u001b[33mThe extracted extension (\u001b[39m\u001b[38;5;132;01m{\u001b[39;00merror.extension\u001b[38;5;132;01m!r}\u001b[39;00m\u001b[33m) is unusual \u001b[39m\u001b[33m'\u001b[39m\n\u001b[32m    189\u001b[39m             \u001b[33m'\u001b[39m\u001b[33mand will be skipped for safety reasons. \u001b[39m\u001b[33m'\u001b[39m\n\u001b[32m    190\u001b[39m             \u001b[33mf\u001b[39m\u001b[33m'\u001b[39m\u001b[33mIf you believe this is an error\u001b[39m\u001b[38;5;132;01m{\u001b[39;00mbug_reports_message(\u001b[33m\"\u001b[39m\u001b[33m,\u001b[39m\u001b[33m\"\u001b[39m)\u001b[38;5;132;01m}\u001b[39;00m\u001b[33m'\u001b[39m)\n",
      "\u001b[36mFile \u001b[39m\u001b[32m~/ISC/arena/learn/learn_rag/.venv/lib/python3.11/site-packages/yt_dlp/YoutubeDL.py:3588\u001b[39m, in \u001b[36mYoutubeDL.process_info\u001b[39m\u001b[34m(self, info_dict)\u001b[39m\n\u001b[32m   3586\u001b[39m     replace_info_dict(\u001b[38;5;28mself\u001b[39m.post_process(dl_filename, info_dict, files_to_move))\n\u001b[32m   3587\u001b[39m \u001b[38;5;28;01mexcept\u001b[39;00m PostProcessingError \u001b[38;5;28;01mas\u001b[39;00m err:\n\u001b[32m-> \u001b[39m\u001b[32m3588\u001b[39m     \u001b[38;5;28;43mself\u001b[39;49m\u001b[43m.\u001b[49m\u001b[43mreport_error\u001b[49m\u001b[43m(\u001b[49m\u001b[33;43mf\u001b[39;49m\u001b[33;43m'\u001b[39;49m\u001b[33;43mPostprocessing: \u001b[39;49m\u001b[38;5;132;43;01m{\u001b[39;49;00m\u001b[43merr\u001b[49m\u001b[38;5;132;43;01m}\u001b[39;49;00m\u001b[33;43m'\u001b[39;49m\u001b[43m)\u001b[49m\n\u001b[32m   3589\u001b[39m     \u001b[38;5;28;01mreturn\u001b[39;00m\n\u001b[32m   3590\u001b[39m \u001b[38;5;28;01mtry\u001b[39;00m:\n",
      "\u001b[36mFile \u001b[39m\u001b[32m~/ISC/arena/learn/learn_rag/.venv/lib/python3.11/site-packages/yt_dlp/YoutubeDL.py:1111\u001b[39m, in \u001b[36mYoutubeDL.report_error\u001b[39m\u001b[34m(self, message, *args, **kwargs)\u001b[39m\n\u001b[32m   1106\u001b[39m \u001b[38;5;28;01mdef\u001b[39;00m\u001b[38;5;250m \u001b[39m\u001b[34mreport_error\u001b[39m(\u001b[38;5;28mself\u001b[39m, message, *args, **kwargs):\n\u001b[32m   1107\u001b[39m \u001b[38;5;250m    \u001b[39m\u001b[33;03m\"\"\"\u001b[39;00m\n\u001b[32m   1108\u001b[39m \u001b[33;03m    Do the same as trouble, but prefixes the message with 'ERROR:', colored\u001b[39;00m\n\u001b[32m   1109\u001b[39m \u001b[33;03m    in red if stderr is a tty file.\u001b[39;00m\n\u001b[32m   1110\u001b[39m \u001b[33;03m    \"\"\"\u001b[39;00m\n\u001b[32m-> \u001b[39m\u001b[32m1111\u001b[39m     \u001b[38;5;28;43mself\u001b[39;49m\u001b[43m.\u001b[49m\u001b[43mtrouble\u001b[49m\u001b[43m(\u001b[49m\u001b[33;43mf\u001b[39;49m\u001b[33;43m'\u001b[39;49m\u001b[38;5;132;43;01m{\u001b[39;49;00m\u001b[38;5;28;43mself\u001b[39;49m\u001b[43m.\u001b[49m\u001b[43m_format_err\u001b[49m\u001b[43m(\u001b[49m\u001b[33;43m\"\u001b[39;49m\u001b[33;43mERROR:\u001b[39;49m\u001b[33;43m\"\u001b[39;49m\u001b[43m,\u001b[49m\u001b[38;5;250;43m \u001b[39;49m\u001b[38;5;28;43mself\u001b[39;49m\u001b[43m.\u001b[49m\u001b[43mStyles\u001b[49m\u001b[43m.\u001b[49m\u001b[43mERROR\u001b[49m\u001b[43m)\u001b[49m\u001b[38;5;132;43;01m}\u001b[39;49;00m\u001b[33;43m \u001b[39;49m\u001b[38;5;132;43;01m{\u001b[39;49;00m\u001b[43mmessage\u001b[49m\u001b[38;5;132;43;01m}\u001b[39;49;00m\u001b[33;43m'\u001b[39;49m\u001b[43m,\u001b[49m\u001b[43m \u001b[49m\u001b[43m*\u001b[49m\u001b[43margs\u001b[49m\u001b[43m,\u001b[49m\u001b[43m \u001b[49m\u001b[43m*\u001b[49m\u001b[43m*\u001b[49m\u001b[43mkwargs\u001b[49m\u001b[43m)\u001b[49m\n",
      "\u001b[36mFile \u001b[39m\u001b[32m~/ISC/arena/learn/learn_rag/.venv/lib/python3.11/site-packages/yt_dlp/YoutubeDL.py:1050\u001b[39m, in \u001b[36mYoutubeDL.trouble\u001b[39m\u001b[34m(self, message, tb, is_error)\u001b[39m\n\u001b[32m   1048\u001b[39m     \u001b[38;5;28;01melse\u001b[39;00m:\n\u001b[32m   1049\u001b[39m         exc_info = sys.exc_info()\n\u001b[32m-> \u001b[39m\u001b[32m1050\u001b[39m     \u001b[38;5;28;01mraise\u001b[39;00m DownloadError(message, exc_info)\n\u001b[32m   1051\u001b[39m \u001b[38;5;28mself\u001b[39m._download_retcode = \u001b[32m1\u001b[39m\n",
      "\u001b[31mDownloadError\u001b[39m: ERROR: Postprocessing: ffprobe and ffmpeg not found. Please install or provide the path using --ffmpeg-location"
     ]
    }
   ],
   "source": [
    "url = 'https://www.youtube.com/watch?v=8juRvzZg_AI'\n",
    "save_dir='docs/youtube/'\n",
    "loader = GenericLoader(\n",
    "    YoutubeAudioLoader([url], save_dir),\n",
    "    OpenAIWhisperParser()\n",
    ")\n",
    "docs = loader.load()"
   ]
  },
  {
   "cell_type": "markdown",
   "metadata": {},
   "source": [
    " precisar instalar o ffmpeg, prém é muito pesado. "
   ]
  },
  {
   "cell_type": "markdown",
   "metadata": {},
   "source": [
    "## URL"
   ]
  },
  {
   "cell_type": "code",
   "execution_count": 1,
   "metadata": {},
   "outputs": [
    {
     "name": "stderr",
     "output_type": "stream",
     "text": [
      "USER_AGENT environment variable not set, consider setting it to identify your requests.\n"
     ]
    }
   ],
   "source": [
    "from langchain_community.document_loaders.web_base import WebBaseLoader\n",
    "\n",
    "url = 'https://aws.amazon.com/pt/what-is/retrieval-augmented-generation/'\n",
    "loader = WebBaseLoader(url)\n",
    "documentos = loader.load()"
   ]
  },
  {
   "cell_type": "code",
   "execution_count": 2,
   "metadata": {},
   "outputs": [
    {
     "data": {
      "text/plain": [
       "1"
      ]
     },
     "execution_count": 2,
     "metadata": {},
     "output_type": "execute_result"
    }
   ],
   "source": [
    "len(documentos)"
   ]
  }
 ],
 "metadata": {
  "language_info": {
   "name": "python"
  }
 },
 "nbformat": 4,
 "nbformat_minor": 2
}
